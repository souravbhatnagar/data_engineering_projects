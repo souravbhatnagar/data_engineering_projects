{
 "cells": [
  {
   "cell_type": "code",
   "execution_count": null,
   "id": "b6675043",
   "metadata": {},
   "outputs": [],
   "source": [
    "from kafka import KafkaConsumer\n",
    "from time import sleep, time\n",
    "from json import dumps,loads\n",
    "import json\n",
    "from s3fs import S3FileSystem"
   ]
  },
  {
   "cell_type": "code",
   "execution_count": null,
   "id": "9eeff3ef",
   "metadata": {},
   "outputs": [],
   "source": [
    "consumer = KafkaConsumer(\n",
    "    'demo_test',\n",
    "    bootstrap_servers=['13.234.20.133:9092'], #add your IP here\n",
    "    value_deserializer=lambda x: loads(x.decode('utf-8')))"
   ]
  },
  {
   "cell_type": "code",
   "execution_count": null,
   "id": "eda5a608",
   "metadata": {},
   "outputs": [],
   "source": [
    "# Testing purpose\n",
    "# for c in consumer:\n",
    "#     print(c.value)"
   ]
  },
  {
   "cell_type": "code",
   "execution_count": null,
   "id": "8d60dc6c",
   "metadata": {},
   "outputs": [],
   "source": [
    "s3 = S3FileSystem()"
   ]
  },
  {
   "cell_type": "code",
   "execution_count": null,
   "id": "0f135e81",
   "metadata": {},
   "outputs": [],
   "source": [
    "start_time = time()\n",
    "for count, i in enumerate(consumer):\n",
    "    if time() - start_time > 600:\n",
    "        break\n",
    "    with s3.open(\"s3://de-kafka-project-stock-market-data/stock_market_{}.json\".format(count), 'w') as file:\n",
    "        json.dump(i.value, file)    "
   ]
  },
  {
   "cell_type": "code",
   "execution_count": null,
   "id": "7b811cb6",
   "metadata": {},
   "outputs": [],
   "source": []
  }
 ],
 "metadata": {
  "kernelspec": {
   "display_name": "Python 3 (ipykernel)",
   "language": "python",
   "name": "python3"
  },
  "language_info": {
   "codemirror_mode": {
    "name": "ipython",
    "version": 3
   },
   "file_extension": ".py",
   "mimetype": "text/x-python",
   "name": "python",
   "nbconvert_exporter": "python",
   "pygments_lexer": "ipython3",
   "version": "3.9.13"
  }
 },
 "nbformat": 4,
 "nbformat_minor": 5
}
